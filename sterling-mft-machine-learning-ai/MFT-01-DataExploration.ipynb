{
 "cells": [
  {
   "cell_type": "markdown",
   "metadata": {},
   "source": [
    "# Analyzing Manage File Transfer\n",
    "\n",
    "In this exercise, you train an ML model to determine whether a File Transfer instance is classified as malicious/suspicious or benign.\n",
    "\n",
    "The exercise uses the _mftinput4_ data set from a non production Sterling Lab environment. \n",
    "The data set consists of approximately 800 file transfers inbound and outbound which are classifed on the above categories.\n",
    "The data includes features such as File Age, Compression Ratio, Transfer Time, Packets Size, Transfer Rate.\n",
    "The data set is available as a CSV file in this repository.\n",
    "\n",
    "Explore the data to recognize whether you can use it to train a model that recognizes suspicious/malicious file transfers.\n",
    "\n",
    "> _NOTE:  In the interest of time, this notebook performs a simple and superficial analysis of the data.\n",
    "A more detailed study would require more time._\n",
    "\n",
    "### 1. Import the required libraries and load the data."
   ]
  },
  {
   "cell_type": "code",
   "execution_count": null,
   "metadata": {
    "tags": []
   },
   "outputs": [],
   "source": [
    "import pandas as pd\n",
    "import matplotlib.pyplot as plt"
   ]
  },
  {
   "cell_type": "code",
   "execution_count": null,
   "metadata": {
    "tags": []
   },
   "outputs": [],
   "source": [
    "# Load the data set into a Pandas data frame called \"data\"\n",
    "data = pd.read_csv(\"data/mftinput4.csv\")\n",
    "\n",
    "# Obtain the length (rows) and width (columns) of the data set\n",
    "data.shape"
   ]
  },
  {
   "cell_type": "markdown",
   "metadata": {},
   "source": [
    "The data contains 100 rows and 13 columns.  \n",
    "\n",
    "Use the `head` method  of the Pandas dataframe to preview the first five rows."
   ]
  },
  {
   "cell_type": "code",
   "execution_count": null,
   "metadata": {
    "tags": []
   },
   "outputs": [],
   "source": [
    "data.head()"
   ]
  },
  {
   "cell_type": "markdown",
   "metadata": {},
   "source": [
    "### 2. Inspect basic information.\n",
    "\n",
    "Use standard data analysis methods to start exploring the data.\n",
    "\n",
    "Inspect the column names and associated data types.\n",
    "The `info` method of a Pandas data frame displays the column names and data types in a data frame."
   ]
  },
  {
   "cell_type": "code",
   "execution_count": null,
   "metadata": {
    "tags": []
   },
   "outputs": [],
   "source": [
    "data.info()"
   ]
  },
  {
   "cell_type": "markdown",
   "metadata": {},
   "source": [
    "Note the different value types:\n",
    "\n",
    "* `Entropy`, `FileAge`, `CompressionRatio`, `FileSize`, `TransferTime`, `Age`, and `Outcome` contain integer values.\n",
    "* `PacketsSize` and `TransferRate` contain float values.\n",
    "\n",
    "Use the `describe` method to see basic statistical information for each column, such as percentiles, mean, and standard deviation."
   ]
  },
  {
   "cell_type": "code",
   "execution_count": null,
   "metadata": {
    "tags": []
   },
   "outputs": [],
   "source": [
    "data.describe()"
   ]
  },
  {
   "cell_type": "markdown",
   "metadata": {},
   "source": [
    "\n",
    "The dataset consists of several file transfer variables, which are the input features, and one target variable: `Outcome`.\n",
    "\n",
    "* `Entropy`:                degree of randomness or unpredictability in the file's content\n",
    "* `FileAge`:                file age in number of seconds when uploaded\n",
    "* `CompressionRatio`:       percentage of compression\n",
    "* `FileSize`:               megabytes\n",
    "* `TransferTime`:           seconds\n",
    "* `PacketsSize`:            bytes in each packet transferred\n",
    "* `TransferRate`            mega bytes per millisecond\n",
    "* `Age`:                    file age in number of seconds when processed\n",
    "\n",
    "* `Outcome`:                 target variable. Whether the file transfer content is suspicious (`1`) or not (`0`)"
   ]
  },
  {
   "cell_type": "markdown",
   "metadata": {},
   "source": [
    "Count the number are malicious cases."
   ]
  },
  {
   "cell_type": "code",
   "execution_count": null,
   "metadata": {
    "tags": []
   },
   "outputs": [],
   "source": [
    "data.Outcome.value_counts()"
   ]
  },
  {
   "cell_type": "markdown",
   "metadata": {},
   "source": [
    "15 of 100 cases are malicious file transfer cases."
   ]
  },
  {
   "cell_type": "markdown",
   "metadata": {},
   "source": [
    "### 3. Identify missing data\n",
    "\n",
    "Plot the data to visualize the data distribution.\n",
    "Use the `hist` method to plot a histogram.\n",
    "You can use histograms to see how the data is distributed for each variable and detect outliers."
   ]
  },
  {
   "cell_type": "code",
   "execution_count": null,
   "metadata": {
    "tags": []
   },
   "outputs": [],
   "source": [
    "# Plot histograms of the columns on multiple subplots\n",
    "plt.close('all')\n",
    "data.hist(bins=20, figsize=(10, 8))"
   ]
  },
  {
   "cell_type": "markdown",
   "metadata": {},
   "source": [
    "The dataset is evenly distributed .\n"
   ]
  },
  {
   "cell_type": "markdown",
   "metadata": {},
   "source": [
    "Reuse the `head` method to see the `0` values in the data. Print the first 20 rows."
   ]
  },
  {
   "cell_type": "code",
   "execution_count": null,
   "metadata": {
    "tags": []
   },
   "outputs": [],
   "source": [
    "data.head(20)"
   ]
  },
  {
   "cell_type": "markdown",
   "metadata": {},
   "source": [
    "Print the last 20 rows of the dataset and determine if those rows also contain `0` values."
   ]
  },
  {
   "cell_type": "code",
   "execution_count": null,
   "metadata": {
    "tags": []
   },
   "outputs": [],
   "source": [
    "data.tail(20)"
   ]
  },
  {
   "cell_type": "markdown",
   "metadata": {},
   "source": [
    "Determine the number of `0` values in the dataset."
   ]
  },
  {
   "cell_type": "code",
   "execution_count": null,
   "metadata": {
    "tags": []
   },
   "outputs": [],
   "source": [
    "# Select all the rows and only the feature columns\n",
    "feature_data = data.iloc[:, :-1]\n",
    "\n",
    "# Count the total number of rows\n",
    "num_cases = data.shape[0]\n",
    "\n",
    "# Number & percent of '0's for each feature\n",
    "numZero = (feature_data[:] == 0).sum()\n",
    "perZero = ((feature_data[:] == 0).sum())/num_cases*100\n",
    "\n",
    "print(f\"\\nRows, Feature columns: {feature_data.shape}\")\n",
    "print(\"\\n== Number of 0's:\")\n",
    "print(numZero)\n",
    "print(\"\\n == Percentage of 0's:\")\n",
    "print(perZero)"
   ]
  },
  {
   "cell_type": "markdown",
   "metadata": {},
   "source": [
    "The data set contains 56 zero values for `is executable` and 52 zero values for `is compressed`.\n",
    "Aproximately half of the file transfers have a comprssed file and/or executable binary file.\n",
    "\n",
    "To build and train a reliable ML model, you should address any missing values.\n",
    "However, for the sake of simplicity, this exercise do not have missing values and/or  outliers in the dataset.\n",
    "\n",
    "Verify whether if there are any missing data values."
   ]
  },
  {
   "cell_type": "markdown",
   "metadata": {},
   "source": []
  },
  {
   "cell_type": "markdown",
   "metadata": {
    "tags": []
   },
   "source": [
    "## References\n",
    "\n",
    "*File Transfer records were generated by extracting data from a Control Center Monitor instance database in a non production lab environment."
   ]
  }
 ],
 "metadata": {
  "kernelspec": {
   "display_name": "Python 3.9",
   "language": "python",
   "name": "python3"
  },
  "language_info": {
   "codemirror_mode": {
    "name": "ipython",
    "version": 3
   },
   "file_extension": ".py",
   "mimetype": "text/x-python",
   "name": "python",
   "nbconvert_exporter": "python",
   "pygments_lexer": "ipython3",
   "version": "3.9.16"
  }
 },
 "nbformat": 4,
 "nbformat_minor": 4
}
